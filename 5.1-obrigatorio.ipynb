{
 "cells": [
  {
   "cell_type": "markdown",
   "metadata": {},
   "source": [
    "# Trabalho Final - Deep Learning and Reinforcement Learning\n",
    "\n",
    "### Integrantes:\n",
    "\n",
    "###    1) Jurandir Ventura - RM336634\n",
    "###    2) Marcelo Preto - RM336632\n",
    "###    3) Fabio Rizzi - RM336656\n",
    "###    4) Thiago Alexandre – RM336583"
   ]
  },
  {
   "cell_type": "markdown",
   "metadata": {},
   "source": [
    "## Keras\n",
    "\n",
    "## Exercício #5.1 (OBRIGATÓRIO) - 2 PONTOS\n",
    "\n",
    "### Utilizando o dataset do Exercício5.1.csv (disponível no repositório da disciplina) construa um modelo sequencial ou funcional no Keras para fazer a classificação desse dataset que é multiclass.\n",
    "\n",
    "### Tente calibrar a quantidade de camadas e neurônios a fim de atingir uma taxa de acerto superior a 75% no conjunto de teste.\n",
    "\n",
    "* Aplique os pré-processamentos necessários.\n",
    "* Apresente a evolução do conjunto de treino e validação.\n",
    "* Apresente a acurácia do conjunto de testes.\n",
    "* Apresente a configuração (estrutura) da rede neural.\n",
    "* O modelo não pode estar superajustado (“overfitado”) utilize as técnicas vistas em sala de aula para prevenir ou mitigar esse problema."
   ]
  },
  {
   "cell_type": "code",
   "execution_count": 2,
   "metadata": {},
   "outputs": [],
   "source": [
    "random_state=42"
   ]
  },
  {
   "cell_type": "code",
   "execution_count": 9,
   "metadata": {},
   "outputs": [],
   "source": [
    "try:\n",
    "  import pandas as pd\n",
    "except:\n",
    "  !pip install pandas\n",
    "\n",
    "df=pd.read_csv(\"data/ex5.1-dataset.csv\", delimiter=';', encoding='UTF-8')\n",
    "df_classe=pd.read_csv(\"data/ex5.1-classes.csv\", delimiter=';', encoding='UTF-8')"
   ]
  },
  {
   "cell_type": "code",
   "execution_count": null,
   "metadata": {},
   "outputs": [],
   "source": []
  }
 ],
 "metadata": {
  "kernelspec": {
   "display_name": "Python 3",
   "language": "python",
   "name": "python3"
  },
  "language_info": {
   "codemirror_mode": {
    "name": "ipython",
    "version": 3
   },
   "file_extension": ".py",
   "mimetype": "text/x-python",
   "name": "python",
   "nbconvert_exporter": "python",
   "pygments_lexer": "ipython3",
   "version": "3.8.3-final"
  }
 },
 "nbformat": 4,
 "nbformat_minor": 4
}