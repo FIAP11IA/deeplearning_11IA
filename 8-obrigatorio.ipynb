{
 "cells": [
  {
   "cell_type": "markdown",
   "metadata": {},
   "source": [
    "# Trabalho Final - Deep Learning and Reinforcement Learning\n",
    "\n",
    "### Integrantes:\n",
    "\n",
    "###    1) Jurandir Ventura - RM336634\n",
    "###    2) Marcelo Preto - RM336632\n",
    "###    3) Fabio Rizzi - RM336656\n",
    "###    4) Thiago Alexandre – RM336583"
   ]
  },
  {
   "cell_type": "markdown",
   "metadata": {},
   "source": [
    "# Redes Neurais Convolucionais\n",
    "# Exercício #8 (OBRIGATÓRIO) - 5 PONTOS\n",
    "\n",
    "## Inicialmente os alunos deverão escolher entre 4 datasets:\n",
    "\n",
    "### 1. Selecionar 15 frutas distintas do dataset fruits 360 (Fácil)\n",
    "### 2. Selecionar todas as frutas do dataset fruits 360 (Médio)\n",
    "    Disponível em: https://www.dropbox.com/s/kzhuv6xim8ejxp3/fruits.zip\n",
    "### 3. CoronaHack -Chest X-Ray-Dataset (Médio): Classificar apenas se existe Pneumonia ou Não, opcionalmente classificar a existência de COVID-19:\n",
    "    Disponível em: https://www.dropbox.com/s/zmo4c6pzwcgd9c4/562468_1022626_bundle_archive.zip\n",
    "### 4. Dataset Skin Cancer MNIST: HAM10000 (difícil)\n",
    "    Disponível em: https://www.dropbox.com/s/8o4ysiccspp46ov/skin-cancer-mnist-ham10000.zip\n",
    "\n",
    "## Com o dataset selecionado deve-se construir uma CNN para a classificação das imagens do dataset selecionado\n",
    "### Instruções Gerais:\n",
    "* Utilize a LetNet-5 como exemplo inicial bem como o exemplo visto em salada de aula do dataset minst;\n",
    "* Inicie o trabalho com parte do dataset vá adicionando gradativamente mais tipos distintos de frutos;\n",
    "* É permitido usar outras abordagens e arquiteturas;\n",
    "* É permitido o uso de Autoencoders;\n",
    "* É obrigatório o uso de CNN;\n",
    "* É permitido o uso de técnicas de processamento de imagens;\n",
    "* Não é permitido o uso de modelos pré-treinados;\n",
    "* Faça uma boa distribuição dos dados de teste e treinamento e validação;\n",
    "\n",
    "## Com o dataset selecionado deve-se construir uma CNN para a classificação das imagens do dataset selecionado\n",
    "### Instruções Gerais:\n",
    "* Aplique os pré-processamentos necessários.\n",
    "* Apresente a evolução do conjunto de treino e validação.\n",
    "* Apresente a acurácia do conjunto de testes (opcional).\n",
    "* O conjunto de teste deve variar entre 20% e 30% do conjunto total de treinamento e deve ter a mesma proporção da quantidade de amostras por classes de forma aleatório. Para o dataset fruits360 o conjunto precisa ser construído, em outras palavras é necessário fazer uma rotina que faça isso, selecionando imagens de forma aleatória e respeitando a proporcionalidade de amostras por classes (todo tipo de fruta deve ter a mesma quantidade).\n",
    "* Apresente a configuração (estrutura) da rede neural.\n",
    "\n",
    "## Dicas:\n",
    "### Utilize as instruções de leituras de diretoriós de imagens do próprio Keras (semelhante ao exemplo visto com o dataset de dígitos):\n",
    "\n",
    "### train_datagen = preprocessing.image.ImageDataGenerator(validation_split=0.20)\n",
    "\n",
    "### train_generator = train_datagen.flow_from_directory('Dataset',batch_size=200,color_mode = 'grayscale',target_size=(30, 30))\n"
   ]
  },
  {
   "cell_type": "code",
   "execution_count": null,
   "metadata": {},
   "outputs": [],
   "source": []
  }
 ],
 "metadata": {
  "kernelspec": {
   "display_name": "Python 3.7.7 64-bit ('base': conda)",
   "language": "python",
   "name": "python_defaultSpec_1596589179061"
  },
  "language_info": {
   "codemirror_mode": {
    "name": "ipython",
    "version": 3
   },
   "file_extension": ".py",
   "mimetype": "text/x-python",
   "name": "python",
   "nbconvert_exporter": "python",
   "pygments_lexer": "ipython3",
   "version": "3.7.7-final"
  }
 },
 "nbformat": 4,
 "nbformat_minor": 4
}