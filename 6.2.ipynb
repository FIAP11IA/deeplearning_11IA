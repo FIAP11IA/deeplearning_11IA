{
 "cells": [
  {
   "cell_type": "markdown",
   "metadata": {},
   "source": [
    "# Trabalho Final - Deep Learning and Reinforcement Learning\n",
    "\n",
    "### Integrantes:\n",
    "\n",
    "###    1) Jurandir Ventura - RM336634\n",
    "###    2) Marcelo Preto - RM336632\n",
    "###    3) Fabio Rizzi - RM336656\n",
    "###    4) Thiago Alexandre – RM336583"
   ]
  },
  {
   "cell_type": "markdown",
   "metadata": {},
   "source": [
    "## Redes Neurais Convolucionais\n",
    "\n",
    "### Exercício #6.2 - 1 PONTO\n",
    "### Utilizando o exemplo “Exemplo CNN Dataset CIFAR10.py” aumente a taxa de acerto atual (que em cerca de 60%) em ao menos 18% (totalizando 78-80% de acerto aproximadamente) calibrando a CNN.\n",
    "\n",
    "### Dicas:\n",
    "### • Tente alterar a quantidade de épocas;\n",
    "### • Tente alterar o tamanho do batch_size;\n",
    "### • Tente alterar o tamanho dos filtros convolucionais;\n",
    "### • Cuidado para não gerar um conjunto de filtros inválidos\n",
    "### • Tente alterar a função de ativação na camada completamente conectada.\n",
    "### • Aplique os pré-processamentos necessários.\n",
    "### • Apresente a evolução do conjunto de treino e validação.\n",
    "### • Apresente a acurácia do conjunto de testes.\n",
    "### • Apresente a configuração (estrutura) da rede neural."
   ]
  },
  {
   "cell_type": "code",
   "execution_count": null,
   "metadata": {},
   "outputs": [],
   "source": []
  }
 ],
 "metadata": {
  "kernelspec": {
   "display_name": "Python 3",
   "language": "python",
   "name": "python3"
  },
  "language_info": {
   "codemirror_mode": {
    "name": "ipython",
    "version": 3
   },
   "file_extension": ".py",
   "mimetype": "text/x-python",
   "name": "python",
   "nbconvert_exporter": "python",
   "pygments_lexer": "ipython3",
   "version": "3.7.6"
  }
 },
 "nbformat": 4,
 "nbformat_minor": 4
}
