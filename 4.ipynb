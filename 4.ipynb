{
 "cells": [
  {
   "cell_type": "markdown",
   "metadata": {},
   "source": [
    "# Trabalho Final - Deep Learning and Reinforcement Learning\n",
    "\n",
    "### Integrantes:\n",
    "\n",
    "###    1) Jurandir Ventura - RM336634\n",
    "###    2) Marcelo Preto - RM336632\n",
    "###    3) Fabio Rizzi - RM336656\n",
    "###    4) Thiago Alexandre – RM336583"
   ]
  },
  {
   "cell_type": "markdown",
   "metadata": {},
   "source": [
    "## Extreme Learning Machines\n",
    "\n",
    "### Exercício #4 - 1 PONTO\n",
    "\n",
    "#### Utilizando a biblioteca elm  do pacote sklearn_extensions.extreme_learning_machines e o dataset Mushroom Classification (disponível no repositório da disciplina e em https://www.kaggle.com/uciml/mushroom-classification) encontre a configuração de ELM que atinge a melhor acurácia\n",
    "\n",
    "#### Dicas:\n",
    "- Utilize o exemplo plot_eml_comparsion.py como base;\n",
    "- Não é necessário plotar as fronteiras de decisão do classificador;"
   ]
  },
  {
   "cell_type": "code",
   "execution_count": 1,
   "metadata": {},
   "outputs": [],
   "source": [
    "random_state=42"
   ]
  },
  {
   "cell_type": "code",
   "execution_count": 2,
   "metadata": {},
   "outputs": [],
   "source": [
    "import pandas as pd\n",
    "import numpy as np\n",
    "import pylab as pl\n",
    "\n",
    "from matplotlib.colors import ListedColormap\n",
    "from sklearn.datasets import make_moons, make_circles, make_classification\n",
    "from sklearn.preprocessing import StandardScaler\n",
    "from sklearn.model_selection import train_test_split\n",
    "from sklearn.linear_model import LogisticRegression\n",
    "\n",
    "from sklearn_extensions.extreme_learning_machines.elm import GenELMClassifier\n",
    "from sklearn_extensions.extreme_learning_machines.random_layer import RBFRandomLayer, MLPRandomLayer\n"
   ]
  },
  {
   "cell_type": "code",
   "execution_count": 39,
   "metadata": {},
   "outputs": [],
   "source": [
    "df=pd.read_csv(\"data/ex4-mushrooms.csv\", delimiter=',', encoding='UTF-8')\n"
   ]
  },
  {
   "cell_type": "code",
   "execution_count": 40,
   "metadata": {},
   "outputs": [
    {
     "output_type": "execute_result",
     "data": {
      "text/plain": "  class cap-shape cap-surface cap-color bruises odor gill-attachment  \\\n0     p         x           s         n       t    p               f   \n1     e         x           s         y       t    a               f   \n2     e         b           s         w       t    l               f   \n3     p         x           y         w       t    p               f   \n4     e         x           s         g       f    n               f   \n\n  gill-spacing gill-size gill-color  ... stalk-surface-below-ring  \\\n0            c         n          k  ...                        s   \n1            c         b          k  ...                        s   \n2            c         b          n  ...                        s   \n3            c         n          n  ...                        s   \n4            w         b          k  ...                        s   \n\n  stalk-color-above-ring stalk-color-below-ring veil-type veil-color  \\\n0                      w                      w         p          w   \n1                      w                      w         p          w   \n2                      w                      w         p          w   \n3                      w                      w         p          w   \n4                      w                      w         p          w   \n\n  ring-number ring-type spore-print-color population habitat  \n0           o         p                 k          s       u  \n1           o         p                 n          n       g  \n2           o         p                 n          n       m  \n3           o         p                 k          s       u  \n4           o         e                 n          a       g  \n\n[5 rows x 23 columns]",
      "text/html": "<div>\n<style scoped>\n    .dataframe tbody tr th:only-of-type {\n        vertical-align: middle;\n    }\n\n    .dataframe tbody tr th {\n        vertical-align: top;\n    }\n\n    .dataframe thead th {\n        text-align: right;\n    }\n</style>\n<table border=\"1\" class=\"dataframe\">\n  <thead>\n    <tr style=\"text-align: right;\">\n      <th></th>\n      <th>class</th>\n      <th>cap-shape</th>\n      <th>cap-surface</th>\n      <th>cap-color</th>\n      <th>bruises</th>\n      <th>odor</th>\n      <th>gill-attachment</th>\n      <th>gill-spacing</th>\n      <th>gill-size</th>\n      <th>gill-color</th>\n      <th>...</th>\n      <th>stalk-surface-below-ring</th>\n      <th>stalk-color-above-ring</th>\n      <th>stalk-color-below-ring</th>\n      <th>veil-type</th>\n      <th>veil-color</th>\n      <th>ring-number</th>\n      <th>ring-type</th>\n      <th>spore-print-color</th>\n      <th>population</th>\n      <th>habitat</th>\n    </tr>\n  </thead>\n  <tbody>\n    <tr>\n      <th>0</th>\n      <td>p</td>\n      <td>x</td>\n      <td>s</td>\n      <td>n</td>\n      <td>t</td>\n      <td>p</td>\n      <td>f</td>\n      <td>c</td>\n      <td>n</td>\n      <td>k</td>\n      <td>...</td>\n      <td>s</td>\n      <td>w</td>\n      <td>w</td>\n      <td>p</td>\n      <td>w</td>\n      <td>o</td>\n      <td>p</td>\n      <td>k</td>\n      <td>s</td>\n      <td>u</td>\n    </tr>\n    <tr>\n      <th>1</th>\n      <td>e</td>\n      <td>x</td>\n      <td>s</td>\n      <td>y</td>\n      <td>t</td>\n      <td>a</td>\n      <td>f</td>\n      <td>c</td>\n      <td>b</td>\n      <td>k</td>\n      <td>...</td>\n      <td>s</td>\n      <td>w</td>\n      <td>w</td>\n      <td>p</td>\n      <td>w</td>\n      <td>o</td>\n      <td>p</td>\n      <td>n</td>\n      <td>n</td>\n      <td>g</td>\n    </tr>\n    <tr>\n      <th>2</th>\n      <td>e</td>\n      <td>b</td>\n      <td>s</td>\n      <td>w</td>\n      <td>t</td>\n      <td>l</td>\n      <td>f</td>\n      <td>c</td>\n      <td>b</td>\n      <td>n</td>\n      <td>...</td>\n      <td>s</td>\n      <td>w</td>\n      <td>w</td>\n      <td>p</td>\n      <td>w</td>\n      <td>o</td>\n      <td>p</td>\n      <td>n</td>\n      <td>n</td>\n      <td>m</td>\n    </tr>\n    <tr>\n      <th>3</th>\n      <td>p</td>\n      <td>x</td>\n      <td>y</td>\n      <td>w</td>\n      <td>t</td>\n      <td>p</td>\n      <td>f</td>\n      <td>c</td>\n      <td>n</td>\n      <td>n</td>\n      <td>...</td>\n      <td>s</td>\n      <td>w</td>\n      <td>w</td>\n      <td>p</td>\n      <td>w</td>\n      <td>o</td>\n      <td>p</td>\n      <td>k</td>\n      <td>s</td>\n      <td>u</td>\n    </tr>\n    <tr>\n      <th>4</th>\n      <td>e</td>\n      <td>x</td>\n      <td>s</td>\n      <td>g</td>\n      <td>f</td>\n      <td>n</td>\n      <td>f</td>\n      <td>w</td>\n      <td>b</td>\n      <td>k</td>\n      <td>...</td>\n      <td>s</td>\n      <td>w</td>\n      <td>w</td>\n      <td>p</td>\n      <td>w</td>\n      <td>o</td>\n      <td>e</td>\n      <td>n</td>\n      <td>a</td>\n      <td>g</td>\n    </tr>\n  </tbody>\n</table>\n<p>5 rows × 23 columns</p>\n</div>"
     },
     "metadata": {},
     "execution_count": 40
    }
   ],
   "source": [
    "df.head()"
   ]
  },
  {
   "cell_type": "code",
   "execution_count": 41,
   "metadata": {
    "tags": []
   },
   "outputs": [
    {
     "output_type": "stream",
     "name": "stdout",
     "text": "<class 'pandas.core.frame.DataFrame'>\nRangeIndex: 8124 entries, 0 to 8123\nData columns (total 23 columns):\n #   Column                    Non-Null Count  Dtype \n---  ------                    --------------  ----- \n 0   class                     8124 non-null   object\n 1   cap-shape                 8124 non-null   object\n 2   cap-surface               8124 non-null   object\n 3   cap-color                 8124 non-null   object\n 4   bruises                   8124 non-null   object\n 5   odor                      8124 non-null   object\n 6   gill-attachment           8124 non-null   object\n 7   gill-spacing              8124 non-null   object\n 8   gill-size                 8124 non-null   object\n 9   gill-color                8124 non-null   object\n 10  stalk-shape               8124 non-null   object\n 11  stalk-root                8124 non-null   object\n 12  stalk-surface-above-ring  8124 non-null   object\n 13  stalk-surface-below-ring  8124 non-null   object\n 14  stalk-color-above-ring    8124 non-null   object\n 15  stalk-color-below-ring    8124 non-null   object\n 16  veil-type                 8124 non-null   object\n 17  veil-color                8124 non-null   object\n 18  ring-number               8124 non-null   object\n 19  ring-type                 8124 non-null   object\n 20  spore-print-color         8124 non-null   object\n 21  population                8124 non-null   object\n 22  habitat                   8124 non-null   object\ndtypes: object(23)\nmemory usage: 1.4+ MB\n"
    }
   ],
   "source": [
    "df.info()"
   ]
  },
  {
   "cell_type": "code",
   "execution_count": 42,
   "metadata": {},
   "outputs": [
    {
     "output_type": "execute_result",
     "data": {
      "text/plain": "['class',\n 'cap-shape',\n 'cap-surface',\n 'cap-color',\n 'bruises',\n 'odor',\n 'gill-attachment',\n 'gill-spacing',\n 'gill-size',\n 'gill-color',\n 'stalk-shape',\n 'stalk-root',\n 'stalk-surface-above-ring',\n 'stalk-surface-below-ring',\n 'stalk-color-above-ring',\n 'stalk-color-below-ring',\n 'veil-type',\n 'veil-color',\n 'ring-number',\n 'ring-type',\n 'spore-print-color',\n 'population',\n 'habitat']"
     },
     "metadata": {},
     "execution_count": 42
    }
   ],
   "source": [
    "df.columns.to_list()"
   ]
  },
  {
   "cell_type": "code",
   "execution_count": 43,
   "metadata": {},
   "outputs": [],
   "source": [
    "def make_datasets():\n",
    "    \"\"\"\n",
    "\n",
    "    :return:\n",
    "    \"\"\"\n",
    "\n",
    "    return [make_moons(n_samples=200, noise=0.3, random_state=0),\n",
    "            make_circles(n_samples=200, noise=0.2, factor=0.5, random_state=1),\n",
    "            make_linearly_separable()]\n"
   ]
  },
  {
   "cell_type": "code",
   "execution_count": 44,
   "metadata": {},
   "outputs": [],
   "source": [
    "def make_classifiers():\n",
    "    \"\"\"\n",
    "\n",
    "    :return:\n",
    "    \"\"\"\n",
    "\n",
    "    names = [\"ELM(10,tanh)\", \"ELM(10,tanh,LR)\", \"ELM(10,sinsq)\", \"ELM(10,tribas)\", \"ELM(hardlim)\", \"ELM(20,rbf(0.1))\"]\n",
    "\n",
    "    nh = 10\n",
    "\n",
    "    # pass user defined transfer func\n",
    "    sinsq = (lambda x: np.power(np.sin(x), 2.0))\n",
    "    srhl_sinsq = MLPRandomLayer(n_hidden=nh, activation_func=sinsq)\n",
    "\n",
    "    # use internal transfer funcs\n",
    "    srhl_tanh = MLPRandomLayer(n_hidden=nh, activation_func='tanh')\n",
    "    srhl_tribas = MLPRandomLayer(n_hidden=nh, activation_func='tribas')\n",
    "    srhl_hardlim = MLPRandomLayer(n_hidden=nh, activation_func='hardlim')\n",
    "\n",
    "    # use gaussian RBF\n",
    "    srhl_rbf = RBFRandomLayer(n_hidden=nh*2, rbf_width=0.1, random_state=0)\n",
    "    log_reg = LogisticRegression()\n",
    "\n",
    "    classifiers = [GenELMClassifier(hidden_layer=srhl_tanh),\n",
    "                   GenELMClassifier(hidden_layer=srhl_tanh, regressor=log_reg),\n",
    "                   GenELMClassifier(hidden_layer=srhl_sinsq),\n",
    "                   GenELMClassifier(hidden_layer=srhl_tribas),\n",
    "                   GenELMClassifier(hidden_layer=srhl_hardlim),\n",
    "                   GenELMClassifier(hidden_layer=srhl_rbf)]\n",
    "\n",
    "    return names, classifiers"
   ]
  },
  {
   "cell_type": "code",
   "execution_count": 45,
   "metadata": {},
   "outputs": [],
   "source": [
    "def make_linearly_separable():\n",
    "    \"\"\"\n",
    "\n",
    "    :return:\n",
    "    \"\"\"\n",
    "\n",
    "    X, y = make_classification(n_samples=200, n_features=2, n_redundant=0, n_informative=2, random_state=1, n_clusters_per_class=1)\n",
    "    rng = np.random.RandomState(2)\n",
    "    X += 2 * rng.uniform(size=X.shape)\n",
    "    return (X, y)\n"
   ]
  },
  {
   "cell_type": "code",
   "execution_count": 46,
   "metadata": {},
   "outputs": [],
   "source": [
    "names, classifiers = make_classifiers()"
   ]
  },
  {
   "cell_type": "code",
   "execution_count": 48,
   "metadata": {
    "tags": []
   },
   "outputs": [
    {
     "output_type": "stream",
     "name": "stdout",
     "text": "Dataset: 0\nModel ELM(10,tanh) score: 0.925\nModel ELM(10,tanh,LR) score: 0.8375\nModel ELM(10,sinsq) score: 0.8125\nModel ELM(10,tribas) score: 0.775\nModel ELM(hardlim) score: 0.925\nModel ELM(20,rbf(0.1)) score: 0.9375\nDataset: 1\nModel ELM(10,tanh) score: 0.725\nModel ELM(10,tanh,LR) score: 0.85\nModel ELM(10,sinsq) score: 0.775\nModel ELM(10,tribas) score: 0.8\nModel ELM(hardlim) score: 0.75\nModel ELM(20,rbf(0.1)) score: 0.9375\nDataset: 2\nModel ELM(10,tanh) score: 0.9125\nModel ELM(10,tanh,LR) score: 0.9125\nModel ELM(10,sinsq) score: 0.5875\nModel ELM(10,tribas) score: 0.8875\nModel ELM(hardlim) score: 0.825\nModel ELM(20,rbf(0.1)) score: 0.8625\n"
    }
   ],
   "source": [
    "datasets = make_datasets()\n",
    "# iterate over datasets\n",
    "for idx, ds in enumerate(datasets):\n",
    "    # pre-process dataset, split into training and test part\n",
    "    X, y = ds\n",
    "    X = StandardScaler().fit_transform(X)\n",
    "    X_train, X_test, y_train, y_test = train_test_split(X, y, test_size=.4, random_state=0)\n",
    "    y_test = y_test.reshape(-1, )\n",
    "    y_train = y_train.reshape(-1, )\n",
    "\n",
    "    # iterate over classifiers\n",
    "    print('Dataset: %s' % (idx, ))\n",
    "    for name, clf in zip(names, classifiers):\n",
    "        clf.fit(X_train, y_train)\n",
    "        score = clf.score(X_test, y_test)\n",
    "        print('Model %s score: %s' % (name, score))"
   ]
  },
  {
   "cell_type": "code",
   "execution_count": null,
   "metadata": {},
   "outputs": [],
   "source": []
  }
 ],
 "metadata": {
  "kernelspec": {
   "display_name": "Python 3.8.3 64-bit ('base': conda)",
   "language": "python",
   "name": "python38364bitbasecondaee65fb1740a94a59af8771d507cbb718"
  },
  "language_info": {
   "codemirror_mode": {
    "name": "ipython",
    "version": 3
   },
   "file_extension": ".py",
   "mimetype": "text/x-python",
   "name": "python",
   "nbconvert_exporter": "python",
   "pygments_lexer": "ipython3",
   "version": "3.8.2-final"
  }
 },
 "nbformat": 4,
 "nbformat_minor": 4
}