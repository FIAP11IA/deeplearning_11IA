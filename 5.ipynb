{
 "cells": [
  {
   "cell_type": "markdown",
   "metadata": {},
   "source": [
    "# Trabalho Final - Deep Learning and Reinforcement Learning\n",
    "\n",
    "### Integrantes:\n",
    "\n",
    "###    1) Jurandir Ventura - RM336634\n",
    "###    2) Marcelo Preto - RM336632\n",
    "###    3) Fabio Rizzi - RM336656\n",
    "###    4) Thiago Alexandre – RM336583"
   ]
  },
  {
   "cell_type": "markdown",
   "metadata": {},
   "source": [
    "## Keras\n",
    "\n",
    "## Exercício #5 - 1 PONTO\n",
    "### Utilizando o dataset do Spotify (disponível no repositório da disciplina) construa um modelo sequencial ou funcional no Keras para fazer a classificação desse dataset.\n",
    "\n",
    "## Dicas:\n",
    "#### Tente calibrar a quantidade de camadas e neurônios a fim de atingir uma taxa de acerto semelhante a um SVM otimizado;\n",
    "#### Tente utilizar dropout a fim de evitar eventual overfitting.\n",
    "\n",
    "* Aplique os pré-processamentos necessários.\n",
    "* Apresente a evolução do conjunto de treino e validação.\n",
    "* Apresente a acurácia do conjunto de testes.\n",
    "* Apresente a configuração (estrutura) da rede neural."
   ]
  },
  {
   "cell_type": "code",
   "execution_count": null,
   "metadata": {},
   "outputs": [],
   "source": [
    "random_state=42"
   ]
  },
  {
   "cell_type": "code",
   "execution_count": 2,
   "metadata": {},
   "outputs": [],
   "source": [
    "try: \n",
    "  import pandas as pd\n",
    "except:\n",
    "  !pip install pandas\n",
    "\n",
    "df=pd.read_csv(\"data/ex5-spotify.csv\", delimiter=',', encoding='UTF-8')"
   ]
  },
  {
   "cell_type": "code",
   "execution_count": null,
   "metadata": {},
   "outputs": [],
   "source": []
  }
 ],
 "metadata": {
  "kernelspec": {
   "display_name": "Python 3",
   "language": "python",
   "name": "python3"
  },
  "language_info": {
   "codemirror_mode": {
    "name": "ipython",
    "version": 3
   },
   "file_extension": ".py",
   "mimetype": "text/x-python",
   "name": "python",
   "nbconvert_exporter": "python",
   "pygments_lexer": "ipython3",
   "version": "3.8.3-final"
  }
 },
 "nbformat": 4,
 "nbformat_minor": 4
}