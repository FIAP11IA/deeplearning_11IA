{
 "cells": [
  {
   "cell_type": "markdown",
   "metadata": {},
   "source": [
    "# Trabalho Final - Deep Learning and Reinforcement Learning\n",
    "\n",
    "### Integrantes:\n",
    "\n",
    "###    1) Jurandir Ventura - RM336634\n",
    "###    2) Marcelo Preto - RM336632\n",
    "###    3) Fabio Rizzi - RM336656\n",
    "###    4) Thiago Alexandre – RM336583"
   ]
  },
  {
   "cell_type": "markdown",
   "metadata": {},
   "source": [
    "## Redes Neurais Convolucionais\n",
    "\n",
    "## Exercício #9 (OPCIONAL) - 2 PONTOS\n",
    "### Utilizando o dataset BVMF3 (disponível em: https://www.dropbox.com/s/lbdrugh5thzvvrk/BVMF3.SA.csv?dl=0) faça uma previsão de série temporal utilizando LSTM para prever 30 dias do valor de fechamento a partir do registro #1500 do dataset.\n",
    "\n",
    "### Instruções Gerais:\n",
    "- É permitido usar outras abordagens e arquiteturas de LSTM;\n",
    "- Não é permitido o uso de modelos pré-treinados;\n",
    "- Faça uma boa distribuição dos dados de teste e treinamento;"
   ]
  },
  {
   "cell_type": "code",
   "execution_count": 1,
   "metadata": {},
   "outputs": [],
   "source": [
    "import pandas as pd\n",
    "\n",
    "df=pd.read_csv(\"data/ex9-bvmf3.sa-correto.csv\", delimiter=',', encoding='UTF-8')"
   ]
  }
 ],
 "metadata": {
  "kernelspec": {
   "display_name": "Python 3",
   "language": "python",
   "name": "python3"
  },
  "language_info": {
   "codemirror_mode": {
    "name": "ipython",
    "version": 3
   },
   "file_extension": ".py",
   "mimetype": "text/x-python",
   "name": "python",
   "nbconvert_exporter": "python",
   "pygments_lexer": "ipython3",
   "version": "3.8.2-final"
  }
 },
 "nbformat": 4,
 "nbformat_minor": 4
}