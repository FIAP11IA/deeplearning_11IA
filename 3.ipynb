{
 "cells": [
  {
   "cell_type": "markdown",
   "metadata": {},
   "source": [
    "# Trabalho Final - Deep Learning and Reinforcement Learning\n",
    "\n",
    "### Integrantes:\n",
    "\n",
    "###    1) Jurandir Ventura - RM336634\n",
    "###    2) Marcelo Preto - RM336632\n",
    "###    3) Fabio Rizzi - RM336656\n",
    "###    4) Thiago Alexandre – RM336583"
   ]
  },
  {
   "cell_type": "markdown",
   "metadata": {},
   "source": [
    "## Redes Neurais Artificiais: Multicamadas – Aprendizado\n",
    "\n",
    "### Exercício #3 - 1 PONTO\n",
    "#### Utilizando as bibliotecas do scikit-learn faça:\n",
    "#### • Utilizando do dataset Iris (embarcado no scikit-learn), configure uma Rede Neural MLP para classificar as amostras de plantas nas 3 classes presentes no dataset.\n",
    "\n",
    "#### • Utilizando o dataset Heart Disease UCI (disponível no repositório da disciplina e em https://www.kaggle.com/ronitf/heart-disease-uci) configure uma Rede Neural MLP que classifique as amostras em saudáveis (coluna target =0) ou não.\n",
    "\n",
    "#### • Utilizando o dataset Pulsar Star (disponível no repositório da disciplina e em https://www.kaggle.com/pavanraj159/predicting-a-pulsar-star/) construa uma Rede Neural MLP que classifique as amostras em estrelas de nêutrons ou não."
   ]
  },
  {
   "cell_type": "code",
   "execution_count": 1,
   "metadata": {},
   "outputs": [],
   "source": [
    "#Importando as bibliotecas. Se houver algum erro, use \"pip install Libname\"\n",
    "import pandas as pd\n",
    "import numpy as np\n",
    "from matplotlib import pyplot as plt"
   ]
  },
  {
   "cell_type": "code",
   "execution_count": null,
   "metadata": {},
   "outputs": [],
   "source": []
  }
 ],
 "metadata": {
  "kernelspec": {
   "display_name": "Python 3",
   "language": "python",
   "name": "python3"
  },
  "language_info": {
   "codemirror_mode": {
    "name": "ipython",
    "version": 3
   },
   "file_extension": ".py",
   "mimetype": "text/x-python",
   "name": "python",
   "nbconvert_exporter": "python",
   "pygments_lexer": "ipython3",
   "version": "3.7.6"
  }
 },
 "nbformat": 4,
 "nbformat_minor": 4
}
