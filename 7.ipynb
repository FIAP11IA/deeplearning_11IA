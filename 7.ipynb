{
 "cells": [
  {
   "cell_type": "markdown",
   "metadata": {},
   "source": [
    "# Trabalho Final - Deep Learning and Reinforcement Learning\n",
    "\n",
    "### Integrantes:\n",
    "\n",
    "###    1) Jurandir Ventura - RM336634\n",
    "###    2) Marcelo Preto - RM336632\n",
    "###    3) Fabio Rizzi - RM336656\n",
    "###    4) Thiago Alexandre – RM336583"
   ]
  },
  {
   "cell_type": "markdown",
   "metadata": {},
   "source": [
    "## Redes Neurais Convolucionais\n",
    "\n",
    "### Exercício #7 - 1 PONTO\n",
    "### Utilizando o dataset Fashion MNIST, construa uma CNN para a classificação do dataset.\n",
    "### Dicas:\n",
    "### • Utilize a LetNet-5 como exemplo bem como o exemplo visto em salada de aula do dataset minst.\n",
    "### • Utilize o comando (x_train, y_train), (x_test, y_test) = tf.keras.datasets.fashion_mnist.load_data() para carregar o dataset.\n",
    "### • Os labels da classe são os seguintes:\n",
    "\n",
    "#### 0 T-shirt/top\n",
    "#### 1 Trouser\n",
    "#### 2 Pullover\n",
    "#### 3 Dress\n",
    "#### 4 Coat\n",
    "#### 5 Sandal\n",
    "#### 6 Shirt\n",
    "#### 7 Sneaker\n",
    "#### 8 Bag\n",
    "#### 9 Ankle boot"
   ]
  },
  {
   "cell_type": "code",
   "execution_count": null,
   "metadata": {},
   "outputs": [],
   "source": []
  }
 ],
 "metadata": {
  "kernelspec": {
   "display_name": "Python 3",
   "language": "python",
   "name": "python3"
  },
  "language_info": {
   "codemirror_mode": {
    "name": "ipython",
    "version": 3
   },
   "file_extension": ".py",
   "mimetype": "text/x-python",
   "name": "python",
   "nbconvert_exporter": "python",
   "pygments_lexer": "ipython3",
   "version": "3.7.6"
  }
 },
 "nbformat": 4,
 "nbformat_minor": 4
}
